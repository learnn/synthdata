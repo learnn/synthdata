{
 "cells": [
  {
   "cell_type": "code",
   "execution_count": 3,
   "metadata": {
    "collapsed": true
   },
   "outputs": [],
   "source": [
    "# %load datagen.py\n",
    "from PIL import Image, ImageFont, ImageDraw\n",
    "import random\n",
    "\n",
    "def drawRect(index):\n",
    "    im = Image.new('RGB', (32,32), (255,255,255))\n",
    "    dr = ImageDraw.Draw(im)\n",
    "    width = random.randint(5, 28)\n",
    "    height = random.randint(5, 28)\n",
    "    size = (width,height)\n",
    "    x = random.randint(0,32-width)\n",
    "    y = random.randint(0, 32-height)\n",
    "    position = (x,y)\n",
    "    fillColor = \"rgb({0},{1},{2})\".format(random.randint(0, 255),random.randint(0, 255),random.randint(0, 255))\n",
    "    dr.rectangle((position,size), fill=fillColor)\n",
    "    return im.save(\"rectangle_{0}.png\".format(index))\n",
    "\n",
    "def drawTriangle(index):\n",
    "    im = Image.new('RGB', (32,32), (255,255,255))\n",
    "    dr = ImageDraw.Draw(im)\n",
    "    x1 = random.randint(0,28)\n",
    "    y1 = random.randint(0, 28)\n",
    "    x2 = random.randint(0,28)\n",
    "    y2 = random.randint(0, 28)\n",
    "    x3 = random.randint(0,28)\n",
    "    y3 = random.randint(0, 28)\n",
    "    position = (x1,y1,x2,y2,x3,y3)\n",
    "    fillColor = \"rgb({0},{1},{2})\".format(random.randint(0, 255),random.randint(0, 255),random.randint(0, 255))\n",
    "    dr.polygon(position, fill=fillColor)\n",
    "    return im.save(\"triangle_{0}.png\".format(index))\n",
    "\n",
    "def drawCircle(index):\n",
    "    im = Image.new('RGB', (32,32), (255,255,255))\n",
    "    dr = ImageDraw.Draw(im)\n",
    "    width = random.randint(5, 28)\n",
    "    height = random.randint(5, 28)\n",
    "    x = random.randint(0,32-width)\n",
    "    y = random.randint(0, 32-height)\n",
    "    bounds = (x,y,width,height)\n",
    "    fillColor = \"rgb({0},{1},{2})\".format(random.randint(0, 255),random.randint(0, 255),random.randint(0, 255))\n",
    "    dr.ellipse(bounds, fill=fillColor)\n",
    "    return im.save(\"circle_{0}.png\".format(index))\n",
    "\n",
    "options = {\n",
    "    0 : drawRect,\n",
    "    1 : drawTriangle,\n",
    "    2 : drawCircle\n",
    "}\n",
    "\n",
    "max = 10;\n",
    "\n",
    "for i in range(max):\n",
    "    choice = random.randint(0,2)\n",
    "    options[choice](i)\n"
   ]
  },
  {
   "cell_type": "code",
   "execution_count": null,
   "metadata": {
    "collapsed": true
   },
   "outputs": [],
   "source": []
  }
 ],
 "metadata": {
  "kernelspec": {
   "display_name": "Python 2",
   "language": "python",
   "name": "python2"
  },
  "language_info": {
   "codemirror_mode": {
    "name": "ipython",
    "version": 2
   },
   "file_extension": ".py",
   "mimetype": "text/x-python",
   "name": "python",
   "nbconvert_exporter": "python",
   "pygments_lexer": "ipython2",
   "version": "2.7.9"
  }
 },
 "nbformat": 4,
 "nbformat_minor": 0
}
