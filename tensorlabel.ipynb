{
 "cells": [
  {
   "cell_type": "code",
   "execution_count": null,
   "metadata": {
    "collapsed": false
   },
   "outputs": [],
   "source": [
    "# %load tensorlabelmap.py\n",
    "import os\n",
    "import numpy as np\n",
    "\n",
    "label  = -1\n",
    "\n",
    "# get path for images\n",
    "currentPath = os.path.abspath(os.curdir)\n",
    "filenames = next(os.walk(currentPath))[2]\n",
    "\n",
    "labels = []\n",
    "\n",
    "for file in filenames:\n",
    "    fileName, fileExtension = os.path.splitext(file)\n",
    "    if fileExtension == \".png\":\n",
    "        imgShape = fileName.split(\"_\")[0]\n",
    "        if imgShape == \"rectangle\":\n",
    "            label = [1,0,0]\n",
    "        elif imgShape == \"circle\":\n",
    "            label = [0,1,0]\n",
    "        elif imgShape == \"triangle\":\n",
    "            label = [0,0,1]\n",
    "        labels.append(label)\n",
    "\n",
    "tensorArr = np.array(labels)"
   ]
  },
  {
   "cell_type": "code",
   "execution_count": 17,
   "metadata": {
    "collapsed": false
   },
   "outputs": [
    {
     "data": {
      "text/plain": [
       "array([[0, 0, 1],\n",
       "       [0, 0, 1],\n",
       "       [0, 1, 0],\n",
       "       [0, 1, 0],\n",
       "       [0, 1, 0],\n",
       "       [0, 1, 0],\n",
       "       [1, 0, 0],\n",
       "       [1, 0, 0],\n",
       "       [0, 0, 1],\n",
       "       [0, 1, 0],\n",
       "       [0, 1, 0]])"
      ]
     },
     "execution_count": 17,
     "metadata": {},
     "output_type": "execute_result"
    }
   ],
   "source": [
    "tensorArr"
   ]
  }
 ],
 "metadata": {
  "kernelspec": {
   "display_name": "Python 2",
   "language": "python",
   "name": "python2"
  },
  "language_info": {
   "codemirror_mode": {
    "name": "ipython",
    "version": 2
   },
   "file_extension": ".py",
   "mimetype": "text/x-python",
   "name": "python",
   "nbconvert_exporter": "python",
   "pygments_lexer": "ipython2",
   "version": "2.7.9"
  }
 },
 "nbformat": 4,
 "nbformat_minor": 0
}
