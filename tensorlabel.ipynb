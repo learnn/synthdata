{
 "cells": [
  {
   "cell_type": "code",
   "execution_count": 1,
   "metadata": {
    "collapsed": true
   },
   "outputs": [],
   "source": [
    "# %load tensorlabelmap.py\n",
    "import os\n",
    "import numpy\n",
    "\n",
    "label  = -1\n",
    "\n",
    "# get path for images\n",
    "currentPath = os.path.abspath(os.curdir)\n",
    "filenames = next(os.walk(currentPath))[2]\n",
    "\n",
    "labels = []\n",
    "\n",
    "for file in filenames:\n",
    "    fileName, fileExtension = os.path.splitext(file)\n",
    "    if fileExtension == \".png\":\n",
    "        imgShape = fileName.split(\"_\")[0]\n",
    "        if imgShape == \"rectangle\":\n",
    "            label = 0 \n",
    "        elif imgShape == \"circle\":\n",
    "            label = 1\n",
    "        elif imgShape == \"triangle\":\n",
    "            label = 2\n",
    "        labels.append(label)\n",
    "        \n",
    "labelTensorSize = len(labels)\n",
    "tensorArr = numpy.zeros(shape=(labelTensorSize))\n",
    "\n",
    "i = 0\n",
    "for label in labels:\n",
    "    tensorArr[i] = int(label)\n",
    "    i = i + 1"
   ]
  },
  {
   "cell_type": "code",
   "execution_count": 2,
   "metadata": {
    "collapsed": false
   },
   "outputs": [
    {
     "data": {
      "text/plain": [
       "array([ 0.])"
      ]
     },
     "execution_count": 2,
     "metadata": {},
     "output_type": "execute_result"
    }
   ],
   "source": [
    "tensorArr"
   ]
  },
  {
   "cell_type": "code",
   "execution_count": null,
   "metadata": {
    "collapsed": true
   },
   "outputs": [],
   "source": []
  }
 ],
 "metadata": {
  "kernelspec": {
   "display_name": "Python 2",
   "language": "python",
   "name": "python2"
  },
  "language_info": {
   "codemirror_mode": {
    "name": "ipython",
    "version": 2
   },
   "file_extension": ".py",
   "mimetype": "text/x-python",
   "name": "python",
   "nbconvert_exporter": "python",
   "pygments_lexer": "ipython2",
   "version": "2.7.9"
  }
 },
 "nbformat": 4,
 "nbformat_minor": 0
}
