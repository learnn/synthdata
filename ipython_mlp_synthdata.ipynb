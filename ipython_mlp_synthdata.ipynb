{
 "cells": [
  {
   "cell_type": "code",
   "execution_count": 1,
   "metadata": {
    "collapsed": false
   },
   "outputs": [
    {
     "name": "stdout",
     "output_type": "stream",
     "text": [
      "Couldn't import dot_parser, loading of dot files will not be possible.\n",
      "Time: 0.500797963142 mins\n"
     ]
    }
   ],
   "source": [
    "# %load mlp_synthdata.py\n",
    "import logging\n",
    "import os\n",
    "\n",
    "logging.basicConfig(level=logging.INFO)\n",
    "\n",
    "from deepy.dataset import MiniBatches,BasicDataset\n",
    "from deepy.networks import NeuralClassifier\n",
    "from deepy.layers import Dense, Softmax\n",
    "from deepy.trainers import MomentumTrainer, LearningRateAnnealer\n",
    "from SynthDataset import get_synthetic_data\n",
    "\n",
    "if __name__ == '__main__':\n",
    "    model = NeuralClassifier(input_dim=32*32)\n",
    "    model.stack(Dense(256, 'relu'),\n",
    "                 Dense(256, 'relu'),\n",
    "                 Dense(3, 'linear'),\n",
    "                 Softmax())\n",
    "\n",
    "    trainer = MomentumTrainer(model, {\"weight_l2\": 0.001})\n",
    "\n",
    "    annealer = LearningRateAnnealer(trainer)\n",
    "\n",
    "    DATA_SIZE = 1000\n",
    "    dataset = get_synthetic_data(DATA_SIZE)\n",
    "    valid_size = int(DATA_SIZE * 0.1)\n",
    "    \n",
    "    mlp_synthDataSet = MiniBatches(BasicDataset(dataset[valid_size:], valid=dataset[:valid_size]), batch_size=20)\n",
    "\n",
    "    trainer.run(mlp_synthDataSet, controllers=[annealer])"
   ]
  },
  {
   "cell_type": "code",
   "execution_count": 10,
   "metadata": {
    "collapsed": true
   },
   "outputs": [],
   "source": [
    "from deepy.dataset import MnistDataset\n",
    "import numpy as np"
   ]
  },
  {
   "cell_type": "code",
   "execution_count": 5,
   "metadata": {
    "collapsed": true
   },
   "outputs": [],
   "source": [
    "x = MnistDataset()"
   ]
  },
  {
   "cell_type": "code",
   "execution_count": 6,
   "metadata": {
    "collapsed": true
   },
   "outputs": [],
   "source": [
    "v = x.test_set()"
   ]
  },
  {
   "cell_type": "code",
   "execution_count": 17,
   "metadata": {
    "collapsed": false
   },
   "outputs": [
    {
     "data": {
      "text/plain": [
       "(10000, 2)"
      ]
     },
     "execution_count": 17,
     "metadata": {},
     "output_type": "execute_result"
    }
   ],
   "source": [
    "np.array(v).shape"
   ]
  }
 ],
 "metadata": {
  "kernelspec": {
   "display_name": "Python 2",
   "language": "python",
   "name": "python2"
  },
  "language_info": {
   "codemirror_mode": {
    "name": "ipython",
    "version": 2
   },
   "file_extension": ".py",
   "mimetype": "text/x-python",
   "name": "python",
   "nbconvert_exporter": "python",
   "pygments_lexer": "ipython2",
   "version": "2.7.6"
  }
 },
 "nbformat": 4,
 "nbformat_minor": 0
}
