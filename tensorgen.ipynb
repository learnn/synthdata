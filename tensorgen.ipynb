{
 "cells": [
  {
   "cell_type": "code",
   "execution_count": 7,
   "metadata": {
    "collapsed": true
   },
   "outputs": [],
   "source": [
    "# %load tensorgen.py\n",
    "from scipy import misc\n",
    "import numpy as np\n",
    "import os\n",
    "\n",
    "# Get the maximum X/Y dimension for each image in this folder\n",
    "def getMaxWidthHeight(fileName):\n",
    "    imagearr = misc.imread(fileName)\n",
    "    return imagearr.shape[0], imagearr.shape[1]"
   ]
  },
  {
   "cell_type": "code",
   "execution_count": 8,
   "metadata": {
    "collapsed": true
   },
   "outputs": [],
   "source": [
    "# read image pixels array\n",
    "def populateImageTensor(fileName,imgNumber,tensorArray,w,h):\n",
    "    imagearr = misc.imread(fileName)\n",
    "    #normalizing the pixel values to be in the range of 0 to 1\n",
    "    imagearr = imagearr/255.0\n",
    "    imageWidth = imagearr.shape[0]\n",
    "    imageHeight = imagearr.shape[1]\n",
    "    #create a view of the tensor - a pointer to the 3d array within the 4d array.\n",
    "    tensorView = tensorArr[imgNumber,:,0:imageWidth,0:imageHeight]\n",
    "    imagearr = np.reshape(imagearr,(3,imageWidth,imageHeight))\n",
    "    np.copyto(tensorView,imagearr)"
   ]
  },
  {
   "cell_type": "code",
   "execution_count": 9,
   "metadata": {
    "collapsed": false
   },
   "outputs": [],
   "source": [
    "# get path for images\n",
    "currentPath = os.path.abspath(os.curdir)\n",
    "filenames = next(os.walk(currentPath))[2]\n",
    "\n",
    "imgCount = 0\n",
    "processFiles = []\n",
    "listofX = []\n",
    "listofY = []\n",
    "\n",
    "for file in filenames:\n",
    "    fileName, fileExtension = os.path.splitext(file)\n",
    "    if fileExtension == \".png\":\n",
    "        imgCount = imgCount + 1\n",
    "        processFiles.append(file)\n",
    "        x,y = getMaxWidthHeight(file)\n",
    "        # get the max width, height\n",
    "        listofX.append(x)\n",
    "        listofY.append(y)\n",
    "\n",
    "X = max(listofX)\n",
    "Y = max(listofY)\n",
    "\n",
    "# create 4-d array tensor\n",
    "tensorArr = np.ndarray(shape=(10,3,X,Y),dtype='float64')\n",
    "tensorArr.fill(-1)\n",
    "\n",
    "i = 0\n",
    "for file in processFiles:\n",
    "    populateImageTensor(file,i,tensorArr, X, Y)\n",
    "    i = i + 1"
   ]
  },
  {
   "cell_type": "code",
   "execution_count": 3,
   "metadata": {
    "collapsed": false
   },
   "outputs": [
    {
     "data": {
      "text/plain": [
       "array([[-1., -1., -1., ..., -1., -1., -1.],\n",
       "       [-1., -1., -1., ..., -1., -1., -1.],\n",
       "       [-1., -1., -1., ..., -1., -1., -1.],\n",
       "       ..., \n",
       "       [-1., -1., -1., ..., -1., -1., -1.],\n",
       "       [-1., -1., -1., ..., -1., -1., -1.],\n",
       "       [-1., -1., -1., ..., -1., -1., -1.]])"
      ]
     },
     "execution_count": 3,
     "metadata": {},
     "output_type": "execute_result"
    }
   ],
   "source": [
    "tensorArr[2,0]"
   ]
  },
  {
   "cell_type": "code",
   "execution_count": 98,
   "metadata": {
    "collapsed": false
   },
   "outputs": [],
   "source": [
    "imagearr = misc.imread('triangle_5.png')\n",
    "imagearr = imagearr/255.0\n",
    "imgNumber = 0\n",
    "imageWidth = imagearr.shape[0]\n",
    "imageHeight = imagearr.shape[1]\n",
    "tensorView = tensorArr[imgNumber,:,0:imageWidth,0:imageHeight]\n",
    "imagearr = np.reshape(imagearr,(3,imageWidth,imageHeight))\n",
    "np.copyto(tensorView,imagearr)"
   ]
  },
  {
   "cell_type": "code",
   "execution_count": 75,
   "metadata": {
    "collapsed": false
   },
   "outputs": [
    {
     "data": {
      "text/plain": [
       "array([[[ 0.,  1.,  1.]]])"
      ]
     },
     "execution_count": 75,
     "metadata": {},
     "output_type": "execute_result"
    }
   ],
   "source": [
    "tarr = misc.imread('triangle_5.png')\n",
    "from IPython.core.display import Image \n",
    "Image('triangle_5.png') \n",
    "\n",
    "x = np.ndarray(shape=(1,1,3))\n",
    "x.fill(1)\n",
    "x[:,0,0].fill(0)\n",
    "x"
   ]
  },
  {
   "cell_type": "code",
   "execution_count": 76,
   "metadata": {
    "collapsed": false
   },
   "outputs": [
    {
     "data": {
      "text/plain": [
       "array([[[ 0.]],\n",
       "\n",
       "       [[ 1.]],\n",
       "\n",
       "       [[ 1.]]])"
      ]
     },
     "execution_count": 76,
     "metadata": {},
     "output_type": "execute_result"
    }
   ],
   "source": [
    "np.reshape(x,(3,1,1))"
   ]
  },
  {
   "cell_type": "code",
   "execution_count": 30,
   "metadata": {
    "collapsed": false
   },
   "outputs": [
    {
     "data": {
      "text/plain": [
       "array([[ 5.],\n",
       "       [ 5.]])"
      ]
     },
     "execution_count": 30,
     "metadata": {},
     "output_type": "execute_result"
    }
   ],
   "source": [
    "b"
   ]
  },
  {
   "cell_type": "code",
   "execution_count": 32,
   "metadata": {
    "collapsed": false
   },
   "outputs": [],
   "source": [
    "aview = a[0,0:2,0:1]"
   ]
  },
  {
   "cell_type": "code",
   "execution_count": 33,
   "metadata": {
    "collapsed": false
   },
   "outputs": [
    {
     "data": {
      "text/plain": [
       "array([[ 0.],\n",
       "       [ 0.]])"
      ]
     },
     "execution_count": 33,
     "metadata": {},
     "output_type": "execute_result"
    }
   ],
   "source": [
    "aview"
   ]
  },
  {
   "cell_type": "code",
   "execution_count": 34,
   "metadata": {
    "collapsed": true
   },
   "outputs": [],
   "source": [
    "np.copyto(aview,b)"
   ]
  },
  {
   "cell_type": "code",
   "execution_count": 35,
   "metadata": {
    "collapsed": false
   },
   "outputs": [
    {
     "data": {
      "text/plain": [
       "array([[[ 5.,  0.,  0.,  0.],\n",
       "        [ 5.,  0.,  0.,  0.],\n",
       "        [ 0.,  0.,  0.,  0.]],\n",
       "\n",
       "       [[ 0.,  0.,  0.,  0.],\n",
       "        [ 0.,  0.,  0.,  0.],\n",
       "        [ 0.,  0.,  0.,  0.]]])"
      ]
     },
     "execution_count": 35,
     "metadata": {},
     "output_type": "execute_result"
    }
   ],
   "source": [
    "a"
   ]
  },
  {
   "cell_type": "code",
   "execution_count": null,
   "metadata": {
    "collapsed": true
   },
   "outputs": [],
   "source": []
  }
 ],
 "metadata": {
  "kernelspec": {
   "display_name": "Python 2",
   "language": "python",
   "name": "python2"
  },
  "language_info": {
   "codemirror_mode": {
    "name": "ipython",
    "version": 2
   },
   "file_extension": ".py",
   "mimetype": "text/x-python",
   "name": "python",
   "nbconvert_exporter": "python",
   "pygments_lexer": "ipython2",
   "version": "2.7.9"
  }
 },
 "nbformat": 4,
 "nbformat_minor": 0
}
