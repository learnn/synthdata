{
 "cells": [
  {
   "cell_type": "code",
   "execution_count": null,
   "metadata": {
    "collapsed": false
   },
   "outputs": [],
   "source": [
    "# %load tensorgrayscalegen.py\n",
    "from scipy import misc\n",
    "import numpy as np\n",
    "import os\n",
    "\n",
    "# Get the maximum X/Y dimension for each image in this folder\n",
    "def getMaxWidthHeight(fileName):\n",
    "    imagearr = misc.imread(fileName)\n",
    "    return imagearr.shape[0], imagearr.shape[1]\n",
    "\n",
    "# Read image pixels array\n",
    "def populateGreyScaleImageTensor(fileName,imgNumber,tensorArray,w,h):\n",
    "    imagearr = misc.imread(fileName)\n",
    "    #normalizing the pixel values to be in the range of 0 to 1\n",
    "    imagearr = imagearr/255.0\n",
    "    imageWidth = imagearr.shape[0]\n",
    "    imageHeight = imagearr.shape[1]\n",
    "    \n",
    "    # Get grayscale from image\n",
    "    print imagearr[...,:3]\n",
    "    b = np.dot(imagearr[...,:3], [0.299, 0.587, 0.144])\n",
    "    #create a view of the tensor - a pointer to the 3d array within the 4d array.\n",
    "    #tensorView = tensorArray[imgNumber,0:imageWidth]\n",
    "    #imagearr = np.reshape(imagearr,(3,imageWidth,imageHeight))\n",
    "    #print imagearr\n",
    "    #np.copyto(tensorView,imagearr)\n",
    "    print b\n",
    "\n",
    "# Get path for images\n",
    "currentPath = os.path.abspath(os.curdir)\n",
    "filenames = next(os.walk(currentPath))[2]\n",
    "\n",
    "imgCount = 0\n",
    "processFiles = []\n",
    "listofX = []\n",
    "listofY = []\n",
    "\n",
    "for file in filenames:\n",
    "    fileName, fileExtension = os.path.splitext(file)\n",
    "    if fileExtension == \".png\":\n",
    "        imgCount = imgCount + 1\n",
    "        processFiles.append(file)\n",
    "        x,y = getMaxWidthHeight(file)\n",
    "        # get the max width, height\n",
    "        listofX.append(x)\n",
    "        listofY.append(y)\n",
    "\n",
    "X = max(listofX)\n",
    "Y = max(listofY)\n",
    "\n",
    "print X, Y\n",
    "\n",
    "# create 2-d tensor tuple\n",
    "greyScaleTensor = np.ndarray(shape=(10,X*Y),dtype='float64')\n",
    "greyScaleTensor.fill(-1)\n",
    "\n",
    "i = 0\n",
    "for file in processFiles:\n",
    "    populateGreyScaleImageTensor(file,i,greyScaleTensor, X, Y)\n",
    "    i = i + 1"
   ]
  },
  {
   "cell_type": "code",
   "execution_count": 4,
   "metadata": {
    "collapsed": false
   },
   "outputs": [
    {
     "data": {
      "text/plain": [
       "(10, 1024)"
      ]
     },
     "execution_count": 4,
     "metadata": {},
     "output_type": "execute_result"
    }
   ],
   "source": [
    "greyScaleTensor.shape"
   ]
  },
  {
   "cell_type": "code",
   "execution_count": 5,
   "metadata": {
    "collapsed": true
   },
   "outputs": [],
   "source": []
  },
  {
   "cell_type": "code",
   "execution_count": null,
   "metadata": {
    "collapsed": true
   },
   "outputs": [],
   "source": []
  }
 ],
 "metadata": {
  "kernelspec": {
   "display_name": "Python 2",
   "language": "python",
   "name": "python2"
  },
  "language_info": {
   "codemirror_mode": {
    "name": "ipython",
    "version": 2
   },
   "file_extension": ".py",
   "mimetype": "text/x-python",
   "name": "python",
   "nbconvert_exporter": "python",
   "pygments_lexer": "ipython2",
   "version": "2.7.9"
  }
 },
 "nbformat": 4,
 "nbformat_minor": 0
}
